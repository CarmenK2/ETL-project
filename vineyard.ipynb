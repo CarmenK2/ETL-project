{
 "cells": [
  {
   "cell_type": "markdown",
   "metadata": {},
   "source": [
    "### ETL-Project: Extract, Tranform, Load - A Tale of a Vineyard\n",
    "This repository explores the concept of ETL's - Extract, Tranform, Load - by creating a database accessable through (SQL/Postgres?) to assess which locations in (Country/Area) are ideal to establish a vineyard. \n",
    "\n",
    "#### Team Members:\n",
    "* Michael Bett\n",
    "* Carmen Sin\n",
    "* Josh Thomas\n",
    "* Aline Hornoff\n",
    "\n",
    "#### The Project\n",
    "A good glass of wine to wind down after a day hectic and stress or celebrate a great achievment is a special treat. But where is the ideal location to turn a simple fruit like a grape into a glass of joy to celebrate a special occasion.\n",
    "\n",
    "Making wine is a long, slow process. It can take a full three years to get from the initial planting of a brand-new grapevine through the first harvest, and the first vintage might not be bottled for another two years after that. Longterm investment is required and it is therefore vital to pick the right location to establish a vineyard.\n",
    "\n",
    "The database created will give an insight into what locations are ideal for a particular variety based on weather conditions, soil constitution and grape varietel.\n",
    "\n",
    "### Summary\n",
    "What can the database be used for? Is the database relational/non-relational? Why?"
   ]
  },
  {
   "cell_type": "code",
   "execution_count": null,
   "metadata": {},
   "outputs": [],
   "source": [
    "# Import dependencies"
   ]
  },
  {
   "cell_type": "markdown",
   "metadata": {},
   "source": [
    "### Extract\n",
    "... Why did we choose these data Sources\n",
    "\n",
    "#### Data Sources:\n",
    "1. Department Primary Industries and Regional Development WA: https://www.agric.wa.gov.au/soil-api-10\n",
    "2.  \n",
    "3. \n",
    "\n",
    "#### Steps:\n",
    "* \n",
    "* \n",
    "* "
   ]
  },
  {
   "cell_type": "code",
   "execution_count": null,
   "metadata": {},
   "outputs": [],
   "source": [
    "# Extraction Steps"
   ]
  },
  {
   "cell_type": "markdown",
   "metadata": {},
   "source": [
    "## Transform\n",
    "... why did we transform the data in this way\n",
    "\n",
    "#### Steps:\n",
    "* \n",
    "* \n",
    "* "
   ]
  },
  {
   "cell_type": "code",
   "execution_count": null,
   "metadata": {},
   "outputs": [],
   "source": [
    "# Transformation Steps"
   ]
  },
  {
   "cell_type": "markdown",
   "metadata": {},
   "source": [
    "### Load\n",
    "... why did we choose this method \n",
    "\n",
    "#### Steps:\n",
    "* \n",
    "* \n",
    "* "
   ]
  },
  {
   "cell_type": "code",
   "execution_count": null,
   "metadata": {},
   "outputs": [],
   "source": [
    "# Loading Steps"
   ]
  }
 ],
 "metadata": {
  "language_info": {
   "name": "python"
  },
  "orig_nbformat": 4
 },
 "nbformat": 4,
 "nbformat_minor": 2
}
