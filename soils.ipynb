{
 "cells": [
  {
   "cell_type": "code",
   "execution_count": 1,
   "metadata": {},
   "outputs": [],
   "source": [
    "# Import dependencies\n",
    "import pandas as pd\n",
    "import matplotlib.pyplot as plt\n",
    "import numpy as np\n",
    "import requests\n",
    "import json\n",
    "\n",
    "\n",
    "# Import create_engine\n",
    "from sqlalchemy import create_engine"
   ]
  },
  {
   "cell_type": "code",
   "execution_count": 2,
   "metadata": {},
   "outputs": [],
   "source": [
    "# Read in WineData.csv\n",
    "csv_path = \"Location_DF.csv\"\n",
    "Location_df = pd.read_csv(csv_path)"
   ]
  },
  {
   "cell_type": "code",
   "execution_count": 3,
   "metadata": {},
   "outputs": [
    {
     "data": {
      "text/html": [
       "<div>\n",
       "<style scoped>\n",
       "    .dataframe tbody tr th:only-of-type {\n",
       "        vertical-align: middle;\n",
       "    }\n",
       "\n",
       "    .dataframe tbody tr th {\n",
       "        vertical-align: top;\n",
       "    }\n",
       "\n",
       "    .dataframe thead th {\n",
       "        text-align: right;\n",
       "    }\n",
       "</style>\n",
       "<table border=\"1\" class=\"dataframe\">\n",
       "  <thead>\n",
       "    <tr style=\"text-align: right;\">\n",
       "      <th></th>\n",
       "      <th>Winery</th>\n",
       "      <th>Latitude</th>\n",
       "      <th>Longitude</th>\n",
       "    </tr>\n",
       "  </thead>\n",
       "  <tbody>\n",
       "    <tr>\n",
       "      <th>0</th>\n",
       "      <td>Plantagenet</td>\n",
       "      <td>-34.623193</td>\n",
       "      <td>117.662067</td>\n",
       "    </tr>\n",
       "    <tr>\n",
       "      <th>1</th>\n",
       "      <td>Xanadu</td>\n",
       "      <td>-33.982649</td>\n",
       "      <td>115.056427</td>\n",
       "    </tr>\n",
       "    <tr>\n",
       "      <th>2</th>\n",
       "      <td>Vasse River</td>\n",
       "      <td>-33.677252</td>\n",
       "      <td>119.188485</td>\n",
       "    </tr>\n",
       "    <tr>\n",
       "      <th>3</th>\n",
       "      <td>Robert Oatley</td>\n",
       "      <td>-27.672817</td>\n",
       "      <td>121.628310</td>\n",
       "    </tr>\n",
       "    <tr>\n",
       "      <th>4</th>\n",
       "      <td>Picardy</td>\n",
       "      <td>-34.395843</td>\n",
       "      <td>116.128722</td>\n",
       "    </tr>\n",
       "  </tbody>\n",
       "</table>\n",
       "</div>"
      ],
      "text/plain": [
       "          Winery   Latitude   Longitude\n",
       "0    Plantagenet -34.623193  117.662067\n",
       "1         Xanadu -33.982649  115.056427\n",
       "2    Vasse River -33.677252  119.188485\n",
       "3  Robert Oatley -27.672817  121.628310\n",
       "4        Picardy -34.395843  116.128722"
      ]
     },
     "execution_count": 3,
     "metadata": {},
     "output_type": "execute_result"
    }
   ],
   "source": [
    "Location_df.head()"
   ]
  },
  {
   "cell_type": "code",
   "execution_count": 4,
   "metadata": {},
   "outputs": [
    {
     "name": "stdout",
     "output_type": "stream",
     "text": [
      "          Winery   Latitude   Longitude             soilQualifierName  \\\n",
      "0    Plantagenet -34.623193  117.662067               neutral subsoil   \n",
      "1         Xanadu -33.982649  115.056427              gravelly subsoil   \n",
      "2    Vasse River -33.677252  119.188485  differentiation not required   \n",
      "3  Robert Oatley -27.672817  121.628310                  not assigned   \n",
      "4        Picardy -34.395843  116.128722               neutral subsoil   \n",
      "\n",
      "  waSoilGroupCode      waSoilGroupName  landUnitCode landUnitName  \n",
      "0             302  Duplex sandy gravel   slopes 1-3%         None  \n",
      "1             103        Semi-wet soil   slopes 1-3%         None  \n",
      "2             102       Salt lake soil     salt lake         None  \n",
      "3             522     Red shallow loam  not assigned         None  \n",
      "4             302  Duplex sandy gravel  slopes 5-10%         None  \n"
     ]
    }
   ],
   "source": [
    "skey= \"cXNXftKp6WzZUsff1G6pj3wrJ9r1aLTK\"\n",
    "\n",
    "soils_DF = Location_df\n",
    "\n",
    "soils_DF[\"soilQualifierName\"] = None\n",
    "soils_DF[\"waSoilGroupCode\"] = None\n",
    "soils_DF[\"waSoilGroupName\"] = None\n",
    "soils_DF[\"landUnitCode\"] = None\n",
    "soils_DF[\"landUnitName\"] = None\n",
    "\n",
    "\n",
    "for index, row in Location_df.iterrows():\n",
    "\n",
    "    try:\n",
    "\n",
    "        target_url = f\"https://api.dpird.wa.gov.au/v1/soil/predictions?latitude={row['Latitude']}&longitude={row['Longitude']}\"\n",
    "\n",
    "        try:\n",
    "\n",
    "            soil_response = requests.get(target_url, headers={\"api_key\":skey}).json()\n",
    "            predictions = soil_response[\"data\"][\"predictions\"][0]\n",
    "            del predictions[\"links\"]\n",
    "\n",
    "            # print(predictions)\n",
    "            soils_DF.loc[index, \"soilQualifierName\"] = predictions.get(\"soilQualifierName\")\n",
    "            soils_DF.loc[index, \"waSoilGroupCode\"] = predictions.get(\"waSoilGroupCode\")\n",
    "            soils_DF.loc[index, \"waSoilGroupName\"] = predictions.get(\"waSoilGroupName\")\n",
    "            soils_DF.loc[index, \"landUnitCode\"] = predictions.get(\"landUnitCode\")\n",
    "            soils_DF.loc[index, \"landUnitCode\"] = predictions.get(\"landUnitName\")\n",
    "        \n",
    "\n",
    "\n",
    "        except requests.exceptions.JSONDecodeError as e:\n",
    "            # print(e)\n",
    "            soils_DF.loc[index, \"soilQualifierName\"] = \"\"\n",
    "            soils_DF.loc[index, \"waSoilGroupCode\"] = \"\"\n",
    "            soils_DF.loc[index, \"waSoilGroupName\"] = \"\"\n",
    "            soils_DF.loc[index, \"landUnitCode\"] = \"\"\n",
    "            soils_DF.loc[index, \"landUnitCode\"] = \"\"\n",
    "\n",
    "\n",
    "\n",
    "\n",
    "        # break\n",
    "            \n",
    "\n",
    "    except(KeyError, IndexError):\n",
    "        print(\"Missing field/result... skipping.\")\n",
    "print(soils_DF.head())"
   ]
  }
 ],
 "metadata": {
  "kernelspec": {
   "display_name": "Python 3.6.10 ('pythonData')",
   "language": "python",
   "name": "python3"
  },
  "language_info": {
   "codemirror_mode": {
    "name": "ipython",
    "version": 3
   },
   "file_extension": ".py",
   "mimetype": "text/x-python",
   "name": "python",
   "nbconvert_exporter": "python",
   "pygments_lexer": "ipython3",
   "version": "3.6.10"
  },
  "orig_nbformat": 4,
  "vscode": {
   "interpreter": {
    "hash": "ef2702a948f47a27f1351989a2895750e8cf51f50fac172078ac8ebe623dbd69"
   }
  }
 },
 "nbformat": 4,
 "nbformat_minor": 2
}
