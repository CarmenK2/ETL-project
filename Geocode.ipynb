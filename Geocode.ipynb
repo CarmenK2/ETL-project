{
 "cells": [
  {
   "cell_type": "code",
   "execution_count": 1,
   "metadata": {},
   "outputs": [],
   "source": [
    "# Dependencies\n",
    "import requests\n",
    "import json\n",
    "\n",
    "# Google developer API key\n",
    "from config import gkey\n",
    "\n",
    "# Target city\n",
    "target_city = \"Plantagenet\"\n",
    "\n",
    "# Build the endpoint URL\n",
    "target_url = f\"https://maps.googleapis.com/maps/api/geocode/json?address={target_city}%winery%Western%Australia&key={gkey}\""
   ]
  },
  {
   "cell_type": "code",
   "execution_count": 2,
   "metadata": {},
   "outputs": [
    {
     "name": "stdout",
     "output_type": "stream",
     "text": [
      "{'results': [{'address_components': [{'long_name': 'Lot 45', 'short_name': 'Lot 45', 'types': ['street_number']}, {'long_name': 'Albany Highway', 'short_name': 'Albany Hwy', 'types': ['route']}, {'long_name': 'Mount Barker', 'short_name': 'Mount Barker', 'types': ['locality', 'political']}, {'long_name': 'Shire of Plantagenet', 'short_name': 'Plantagenet', 'types': ['administrative_area_level_2', 'political']}, {'long_name': 'Western Australia', 'short_name': 'WA', 'types': ['administrative_area_level_1', 'political']}, {'long_name': 'Australia', 'short_name': 'AU', 'types': ['country', 'political']}, {'long_name': '6323', 'short_name': '6323', 'types': ['postal_code']}], 'formatted_address': 'Lot 45 Albany Hwy, Mount Barker WA 6323, Australia', 'geometry': {'location': {'lat': -34.6231932, 'lng': 117.6620669}, 'location_type': 'ROOFTOP', 'viewport': {'northeast': {'lat': -34.6217759697085, 'lng': 117.6637574302915}, 'southwest': {'lat': -34.6244739302915, 'lng': 117.6610594697085}}}, 'partial_match': True, 'place_id': 'ChIJi-Gp2yCnOSoRmE8yXRoORoY', 'plus_code': {'compound_code': '9MG6+PR Mount Barker WA, Australia', 'global_code': '4PQV9MG6+PR'}, 'types': ['establishment', 'food', 'point_of_interest']}], 'status': 'OK'}\n"
     ]
    }
   ],
   "source": [
    "# Run a request to endpoint and convert result to json\n",
    "geo_data = requests.get(target_url).json()\n",
    "\n",
    "# Print the json\n",
    "print(geo_data)"
   ]
  },
  {
   "cell_type": "code",
   "execution_count": 3,
   "metadata": {},
   "outputs": [
    {
     "name": "stdout",
     "output_type": "stream",
     "text": [
      "{\n",
      "    \"results\": [\n",
      "        {\n",
      "            \"address_components\": [\n",
      "                {\n",
      "                    \"long_name\": \"Lot 45\",\n",
      "                    \"short_name\": \"Lot 45\",\n",
      "                    \"types\": [\n",
      "                        \"street_number\"\n",
      "                    ]\n",
      "                },\n",
      "                {\n",
      "                    \"long_name\": \"Albany Highway\",\n",
      "                    \"short_name\": \"Albany Hwy\",\n",
      "                    \"types\": [\n",
      "                        \"route\"\n",
      "                    ]\n",
      "                },\n",
      "                {\n",
      "                    \"long_name\": \"Mount Barker\",\n",
      "                    \"short_name\": \"Mount Barker\",\n",
      "                    \"types\": [\n",
      "                        \"locality\",\n",
      "                        \"political\"\n",
      "                    ]\n",
      "                },\n",
      "                {\n",
      "                    \"long_name\": \"Shire of Plantagenet\",\n",
      "                    \"short_name\": \"Plantagenet\",\n",
      "                    \"types\": [\n",
      "                        \"administrative_area_level_2\",\n",
      "                        \"political\"\n",
      "                    ]\n",
      "                },\n",
      "                {\n",
      "                    \"long_name\": \"Western Australia\",\n",
      "                    \"short_name\": \"WA\",\n",
      "                    \"types\": [\n",
      "                        \"administrative_area_level_1\",\n",
      "                        \"political\"\n",
      "                    ]\n",
      "                },\n",
      "                {\n",
      "                    \"long_name\": \"Australia\",\n",
      "                    \"short_name\": \"AU\",\n",
      "                    \"types\": [\n",
      "                        \"country\",\n",
      "                        \"political\"\n",
      "                    ]\n",
      "                },\n",
      "                {\n",
      "                    \"long_name\": \"6323\",\n",
      "                    \"short_name\": \"6323\",\n",
      "                    \"types\": [\n",
      "                        \"postal_code\"\n",
      "                    ]\n",
      "                }\n",
      "            ],\n",
      "            \"formatted_address\": \"Lot 45 Albany Hwy, Mount Barker WA 6323, Australia\",\n",
      "            \"geometry\": {\n",
      "                \"location\": {\n",
      "                    \"lat\": -34.6231932,\n",
      "                    \"lng\": 117.6620669\n",
      "                },\n",
      "                \"location_type\": \"ROOFTOP\",\n",
      "                \"viewport\": {\n",
      "                    \"northeast\": {\n",
      "                        \"lat\": -34.6217759697085,\n",
      "                        \"lng\": 117.6637574302915\n",
      "                    },\n",
      "                    \"southwest\": {\n",
      "                        \"lat\": -34.6244739302915,\n",
      "                        \"lng\": 117.6610594697085\n",
      "                    }\n",
      "                }\n",
      "            },\n",
      "            \"partial_match\": true,\n",
      "            \"place_id\": \"ChIJi-Gp2yCnOSoRmE8yXRoORoY\",\n",
      "            \"plus_code\": {\n",
      "                \"compound_code\": \"9MG6+PR Mount Barker WA, Australia\",\n",
      "                \"global_code\": \"4PQV9MG6+PR\"\n",
      "            },\n",
      "            \"types\": [\n",
      "                \"establishment\",\n",
      "                \"food\",\n",
      "                \"point_of_interest\"\n",
      "            ]\n",
      "        }\n",
      "    ],\n",
      "    \"status\": \"OK\"\n",
      "}\n"
     ]
    }
   ],
   "source": [
    "# Print the json (pretty printed)\n",
    "print(json.dumps(geo_data, indent=4, sort_keys=True))"
   ]
  },
  {
   "cell_type": "code",
   "execution_count": 5,
   "metadata": {},
   "outputs": [
    {
     "name": "stdout",
     "output_type": "stream",
     "text": [
      "\n",
      "    Winery Name: Plantagenet\n",
      "    Latitude: -34.6231932\n",
      "    Longitude: 117.6620669\n",
      "    \n"
     ]
    }
   ],
   "source": [
    "# Extract latitude and longitude\n",
    "lat = geo_data[\"results\"][0][\"geometry\"][\"location\"][\"lat\"]\n",
    "lng = geo_data[\"results\"][0][\"geometry\"][\"location\"][\"lng\"]\n",
    "\n",
    "# Print the latitude and longitude\n",
    "print('''\n",
    "    Winery Name: {0}\n",
    "    Latitude: {1}\n",
    "    Longitude: {2}\n",
    "    '''.format(target_city, lat, lng))"
   ]
  }
 ],
 "metadata": {
  "anaconda-cloud": {},
  "interpreter": {
   "hash": "fa0fc083a9a7b25dab36cbe71fb89b2f1907d4eced1698b208dea6977346b521"
  },
  "kernelspec": {
   "display_name": "Python 3.9.7 ('base')",
   "language": "python",
   "name": "python3"
  },
  "language_info": {
   "codemirror_mode": {
    "name": "ipython",
    "version": 3
   },
   "file_extension": ".py",
   "mimetype": "text/x-python",
   "name": "python",
   "nbconvert_exporter": "python",
   "pygments_lexer": "ipython3",
   "version": "3.9.7"
  }
 },
 "nbformat": 4,
 "nbformat_minor": 2
}
